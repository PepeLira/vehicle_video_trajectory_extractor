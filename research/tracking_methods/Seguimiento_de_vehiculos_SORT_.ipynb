{
 "cells": [
  {
   "cell_type": "markdown",
   "id": "0f81e824",
   "metadata": {},
   "source": [
    "# Análisis Seguimiento de Vehículos en Video"
   ]
  },
  {
   "cell_type": "markdown",
   "id": "2fb7d163",
   "metadata": {},
   "source": [
    "## Introducción y Descripción General\n",
    "Este Jupyter Notebook proporciona un análisis detallado del código suministrado para el seguimiento de vehículos en un video. Utiliza el modelo YOLOv8 para la detección de objetos y SORT para el seguimiento de objetos."
   ]
  },
  {
   "cell_type": "code",
   "execution_count": 1,
   "id": "f24bade8",
   "metadata": {},
   "outputs": [],
   "source": [
    "\n",
    "import numpy as np\n",
    "import cv2\n",
    "from ultralytics import YOLO\n",
    "from sort import Sort\n"
   ]
  },
  {
   "cell_type": "markdown",
   "id": "134a964a",
   "metadata": {},
   "source": [
    "## Importación de Librerías Necesarias:\n",
    "- `numpy`: Para operaciones matemáticas y manejo de arrays.\n",
    "- `cv2` (OpenCV): Para el procesamiento de imágenes y video.\n",
    "- `ultralytics.YOLOv8`: Un modelo pre-entrenado de detección de objetos.\n",
    "- `sort.Sort`: Un algoritmo de seguimiento de objetos."
   ]
  },
  {
   "cell_type": "code",
   "execution_count": 2,
   "id": "83056f97",
   "metadata": {},
   "outputs": [],
   "source": [
    "\n",
    "def resize_frame(frame, max_width=1920, max_height=1080):\n",
    "    h, w = frame.shape[:2]\n",
    "    scale = min(max_width / w, max_height / h)\n",
    "    new_w, new_h = int(w * scale), int(h * scale)\n",
    "    return cv2.resize(frame, (new_w, new_h))\n"
   ]
  },
  {
   "cell_type": "markdown",
   "id": "84b9a477",
   "metadata": {},
   "source": [
    "## Función `resize_frame`\n",
    "Esta función redimensiona los frames del video manteniendo la relación de aspecto. Se utiliza para asegurar que el tamaño de los frames sea manejable para el procesamiento y visualización."
   ]
  },
  {
   "cell_type": "markdown",
   "id": "219c7d27",
   "metadata": {},
   "source": [
    "## Inicialización de Componentes Principales\n",
    "El código inicializa componentes clave para la captura de video, detección de objetos y seguimiento:\n",
    "1. **Captura de Video**: Se carga el video usando `cv2.VideoCapture`.\n",
    "2. **Modelo YOLO**: Se inicializa el modelo YOLO para la detección de objetos en el video.\n",
    "3. **Tracker SORT**: Se inicializa el tracker SORT para el seguimiento de objetos detectados por YOLO.\n",
    "\n",
    "Es necesario entregar como base un video de prueba para `VideoCapture`. Además de un modelo pre-entrenado de YOLOv8. "
   ]
  },
  {
   "cell_type": "code",
   "execution_count": 3,
   "id": "3c0f6340",
   "metadata": {},
   "outputs": [],
   "source": [
    "cap = cv2.VideoCapture(\"D:/Titulo/Github/vehicle_video_trajectory_extractor/videos/video_sim_30s_movement_estabilizado_filtrado.mp4\")\n",
    "model = YOLO(\"D:/Titulo/Github/vehicle_video_trajectory_extractor/models/cutom_dota.pt\")\n",
    "tracker = Sort()\n"
   ]
  },
  {
   "cell_type": "markdown",
   "id": "a676a16f",
   "metadata": {},
   "source": [
    "## Ciclo Principal de Procesamiento de Video\n",
    "El ciclo principal gestiona la lectura de cada frame, la detección de objetos, el seguimiento y la visualización:\n",
    "- **Lectura de Frame**: Se lee cada frame del video.\n",
    "- **Detección con YOLO**: Se detectan objetos en cada frame usando el modelo YOLO.\n",
    "- **Filtrado y Seguimiento**: Se filtran las detecciones y se realiza el seguimiento de los vehículos.\n",
    "- **Dibujar Resultados en Frame**: Se dibujan los identificadores y cuadros delimitadores en cada frame."
   ]
  },
  {
   "cell_type": "markdown",
   "id": "a60da8a4",
   "metadata": {},
   "source": [
    "## Visualización y Salida\n",
    "El código muestra el video procesado y permite al usuario finalizar la visualización presionando una tecla específica."
   ]
  },
  {
   "cell_type": "markdown",
   "id": "2f8c7c94",
   "metadata": {},
   "source": [
    "## Limpieza de Recursos\n",
    "Es crucial liberar recursos como la captura de video y las ventanas de OpenCV para evitar fugas de memoria."
   ]
  },
  {
   "cell_type": "code",
   "execution_count": 31,
   "id": "f93f8ebd",
   "metadata": {},
   "outputs": [
    {
     "name": "stdout",
     "output_type": "stream",
     "text": [
      "['__class__', '__del__', '__delattr__', '__dir__', '__doc__', '__eq__', '__format__', '__ge__', '__getattribute__', '__getstate__', '__gt__', '__hash__', '__init__', '__init_subclass__', '__iter__', '__le__', '__lt__', '__name__', '__ne__', '__new__', '__next__', '__qualname__', '__reduce__', '__reduce_ex__', '__repr__', '__setattr__', '__sizeof__', '__str__', '__subclasshook__', 'close', 'gi_code', 'gi_frame', 'gi_running', 'gi_suspended', 'gi_yieldfrom', 'send', 'throw']\n"
     ]
    }
   ],
   "source": [
    "cap = cv2.VideoCapture(\"D:/Titulo/Github/vehicle_video_trajectory_extractor/videos/video_sim_30s_movement_estabilizado_filtrado.mp4\")\n",
    "model = YOLO(\"D:/Titulo/Github/vehicle_video_trajectory_extractor/models/cutom_dota.pt\")\n",
    "tracker = Sort()\n",
    "\n",
    "while cap.isOpened():\n",
    "    status, frame = cap.read()\n",
    "    if not status:\n",
    "        break\n",
    "\n",
    "    results = model(frame, stream=True, verbose=False)\n",
    "    \n",
    "    # print([x.boxes.data.cpu().numpy() for x in results][0][0])\n",
    "    for res in results:\n",
    "        filtered_indices = np.where(res.boxes.conf.cpu().numpy() > 0.1)[0]\n",
    "        boxes = res.boxes.xyxy.cpu().numpy()[filtered_indices].astype(int)\n",
    "        data = res.boxes.data.cpu().numpy()[filtered_indices].tolist()\n",
    "        tracks = tracker.update(boxes)\n",
    "        tracks = tracks.astype(int)\n",
    "        new_data = []\n",
    "        for i in range(len(tracks)):\n",
    "            xmin, ymin, xmax, ymax, track_id = tracks[i]\n",
    "            data[i][5] = res.names[data[i][5]]  # Add class name to boxes array \\\n",
    "            data[i].append(track_id)  # Add track ID to boxes array\n",
    "            new_data.append(data[i])\n",
    "            cv2.putText(img=frame, text=f\"Id: {track_id}\", org=(xmin, ymin-10), fontFace=cv2.FONT_HERSHEY_PLAIN, fontScale=2, color=(0,255,0), thickness=2)\n",
    "            cv2.rectangle(img=frame, pt1=(xmin, ymin), pt2=(xmax, ymax), color=(0, 255, 0), thickness=2)\n",
    "        \n",
    "        # print(new_data[5])\n",
    "    resized_frame = resize_frame(frame)\n",
    "    cv2.imshow(\"frame\", resized_frame)\n",
    "\n",
    "    if cv2.waitKey(1) & 0xFF == ord(\"q\"):\n",
    "        break\n",
    "\n",
    "cap.release()\n",
    "cv2.destroyAllWindows()\n"
   ]
  },
  {
   "cell_type": "code",
   "execution_count": 76,
   "id": "ca750d8c",
   "metadata": {},
   "outputs": [],
   "source": [
    "import gc\n",
    "\n",
    "# Perform garbage collection\n",
    "gc.collect()\n",
    "\n",
    "# Reset the CPU memory\n",
    "gc.disable()\n",
    "gc.enable()"
   ]
  },
  {
   "cell_type": "markdown",
   "id": "9b5382a9",
   "metadata": {},
   "source": [
    "# Análisis del Algoritmo SORT\n",
    "\n",
    "El código proporcionado implementa el algoritmo SORT (Simple Online and Realtime Tracking), un método popular para el seguimiento de múltiples objetos en secuencias de video que, en combinación a un modelo de detección de objetos, entrega un arreglo de objetos con IDs únicos, algunos de sus componentes más importantes son:\n",
    "\n",
    "## 1. Modelo de Filtro Kalman\n",
    "El Filtro Kalman se emplea para predecir la posición futura de cada objeto en base a sus estados actuales y pasados. En el código, esto se maneja a través de la clase `KalmanBoxTracker`.\n",
    "\n",
    "## 2. Asociación de Detecciones con Rastreadores\n",
    "El algoritmo asocia las detecciones de objetos en cada frame del video con los rastreadores existentes. Esto se realiza mediante la función `associate_detections_to_trackers`, que utiliza el IoU (Intersección sobre la Unión) y un algoritmo de asignación lineal para encontrar la mejor correspondencia entre las detecciones actuales y los rastreadores existentes.\n",
    "\n",
    "## 3. Manejo de la Vida Útil de los Rastreadores\n",
    "Los rastreadores se actualizan o eliminan en función de su edad y el número de veces que han sido emparejados con detecciones. Esto permite que el algoritmo maneje situaciones donde los objetos pueden temporalmente desaparecer y reaparecer en el campo de visión.\n",
    "\n",
    " SORT rastrea objetos en videos al asociar detecciones de objetos en cada frame con rastreadores existentes utilizando el cálculo de IoU y actualiza estos rastreadores con información de movimiento utilizando filtros Kalman. Ahora, si bien su desarrollo es simple, es importante destacar que este cuenta con algunas limitaciones a estudiar, al presentar una baja fiabilidad cuando la detección presenta pérdidas importantes sobre el objeto que se busca seguir. \n"
   ]
  }
 ],
 "metadata": {
  "kernelspec": {
   "display_name": "Python 3",
   "language": "python",
   "name": "python3"
  },
  "language_info": {
   "codemirror_mode": {
    "name": "ipython",
    "version": 3
   },
   "file_extension": ".py",
   "mimetype": "text/x-python",
   "name": "python",
   "nbconvert_exporter": "python",
   "pygments_lexer": "ipython3",
   "version": "3.11.7"
  }
 },
 "nbformat": 4,
 "nbformat_minor": 5
}
